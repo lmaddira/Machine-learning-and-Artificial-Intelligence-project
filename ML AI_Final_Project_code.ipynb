{
 "cells": [
  {
   "cell_type": "code",
   "execution_count": 87,
   "metadata": {},
   "outputs": [],
   "source": [
    "import numpy as np\n",
    "import pandas as pd\n",
    "import keras\n",
    "from keras.datasets import mnist\n",
    "from keras.models import Sequential\n",
    "\n",
    "from mpl_toolkits.mplot3d import Axes3D\n",
    "from keras.layers import Dense, Dropout, Flatten\n",
    "from keras.layers import InputLayer, Conv2D, MaxPooling2D\n",
    "from keras import backend as K\n",
    "import matplotlib.pyplot as plt\n",
    "import tensorflow as tf"
   ]
  },
  {
   "cell_type": "code",
   "execution_count": 88,
   "metadata": {},
   "outputs": [
    {
     "data": {
      "text/plain": [
       "(992641, 29)"
      ]
     },
     "execution_count": 88,
     "metadata": {},
     "output_type": "execute_result"
    }
   ],
   "source": [
    "#Check data shape\n",
    "#Should be (992641,29)\n",
    "data=pd.read_csv('Data(withouthead).csv', header=None)\n",
    "data=np.array(data)\n",
    "data.shape"
   ]
  },
  {
   "cell_type": "code",
   "execution_count": 89,
   "metadata": {},
   "outputs": [
    {
     "name": "stdout",
     "output_type": "stream",
     "text": [
      "(10000, 27)\n",
      "(10000,)\n"
     ]
    }
   ],
   "source": [
    "#Split data into X and Labels\n",
    "Y=data[:10000,1]\n",
    "X=data[:10000,2:]\n",
    "print(X.shape)\n",
    "print(Y.shape)"
   ]
  },
  {
   "cell_type": "code",
   "execution_count": 90,
   "metadata": {},
   "outputs": [],
   "source": [
    "temp=[]\n",
    "for i in np.arange(1,len(X[0]),3):\n",
    "    \n",
    "    temp.append(X[:,i])\n",
    "    temp.append(X[:,i+1])\n",
    "temp=np.array(temp)\n",
    "X=temp.T"
   ]
  },
  {
   "cell_type": "code",
   "execution_count": 91,
   "metadata": {},
   "outputs": [],
   "source": [
    "def normalize(X):\n",
    "    # normalising the data feature wise \n",
    "    mean=np.mean(X, axis=0)\n",
    "    stdev=np.std(X,axis=0)\n",
    "    Normalised_X= (X-mean)/stdev\n",
    "    return Normalised_X"
   ]
  },
  {
   "cell_type": "code",
   "execution_count": 92,
   "metadata": {},
   "outputs": [],
   "source": [
    "# normalising data\n",
    "norm_x = normalize(X)"
   ]
  },
  {
   "cell_type": "code",
   "execution_count": 93,
   "metadata": {},
   "outputs": [],
   "source": [
    "featured_x = list(norm_x.T)\n",
    "x1sum= (featured_x[3]**2)+(featured_x[11]**2)+(featured_x[15]**2)\n",
    "x1sum2 = (featured_x[2]**2)+(featured_x[10]**2)+(featured_x[14]**2)\n",
    "x1sum3 = (featured_x[0]**2)+(featured_x[8]**2)+(featured_x[16]**2)\n",
    "x1sum4 = (featured_x[1]**2)+(featured_x[9]**2)+(featured_x[17]**2)\n",
    "featured_x.append(x1sum)\n",
    "featured_x.append(x1sum2)\n",
    "featured_x.append(x1sum3)\n",
    "featured_x.append(x1sum4)\n",
    "featured_x = np.array(featured_x)\n",
    "featured_x = featured_x.T"
   ]
  },
  {
   "cell_type": "code",
   "execution_count": 94,
   "metadata": {},
   "outputs": [],
   "source": [
    "#Change labels to binary\n",
    "#Do not run this cell multiple times as the value of Y due to line one changes \n",
    "#If check gives any zero values then re-run from start\n",
    "Y[np.where(Y<=100.)]=0\n",
    "Y[np.where(Y>100)]=1"
   ]
  },
  {
   "cell_type": "code",
   "execution_count": 95,
   "metadata": {},
   "outputs": [],
   "source": [
    "from sklearn.model_selection import train_test_split\n",
    "# use x1 , norm_x, featured_X for different results\n",
    "\n",
    "X_train, X_test, Y_train, Y_test = train_test_split(X, Y, test_size=0.25, random_state=42,shuffle=True)"
   ]
  },
  {
   "cell_type": "code",
   "execution_count": 96,
   "metadata": {},
   "outputs": [],
   "source": [
    "xmin=[]\n",
    "xmax=[]\n",
    "for i in range(18):\n",
    "    xmin.append(X_train[:,i].min()-1)\n",
    "    xmax.append(X_train[:,i].max()+1)\n",
    "xmin=np.array(xmin)\n",
    "xmax=np.array(xmax)\n",
    "x_min, x_max = np.amin(xmin),np.amax(xmax)\n",
    "y_min, y_max = 0,1\n",
    "xx, yy = np.meshgrid(np.arange(x_min, x_max,1), np.arange(y_min, y_max,1))"
   ]
  },
  {
   "cell_type": "markdown",
   "metadata": {},
   "source": [
    "# Random Forest Classifier"
   ]
  },
  {
   "cell_type": "code",
   "execution_count": 97,
   "metadata": {},
   "outputs": [
    {
     "name": "stderr",
     "output_type": "stream",
     "text": [
      "C:\\Users\\laksh\\Anaconda3\\lib\\site-packages\\sklearn\\ensemble\\forest.py:245: FutureWarning: The default value of n_estimators will change from 10 in version 0.20 to 100 in 0.22.\n",
      "  \"10 in version 0.20 to 100 in 0.22.\", FutureWarning)\n"
     ]
    },
    {
     "name": "stdout",
     "output_type": "stream",
     "text": [
      "0.9956\n",
      "0.9224\n"
     ]
    }
   ],
   "source": [
    "from sklearn.ensemble import RandomForestClassifier\n",
    "rfclass=RandomForestClassifier()\n",
    "rfclass.fit(X_train, Y_train)\n",
    "Y_pred=rfclass.predict(X_test)\n",
    "\n",
    "trainscore=rfclass.score(X_train,Y_train)\n",
    "testscore=rfclass.score(X_test,Y_test)\n",
    "acctest=rfclass.score(X_test,Y_test)\n",
    "acctrain=rfclass.score(X_train,Y_train)\n",
    "print(acctrain)\n",
    "print(acctest)"
   ]
  },
  {
   "cell_type": "code",
   "execution_count": 98,
   "metadata": {},
   "outputs": [
    {
     "name": "stderr",
     "output_type": "stream",
     "text": [
      "C:\\Users\\laksh\\Anaconda3\\lib\\site-packages\\sklearn\\ensemble\\forest.py:245: FutureWarning: The default value of n_estimators will change from 10 in version 0.20 to 100 in 0.22.\n",
      "  \"10 in version 0.20 to 100 in 0.22.\", FutureWarning)\n",
      "C:\\Users\\laksh\\Anaconda3\\lib\\site-packages\\sklearn\\ensemble\\forest.py:245: FutureWarning: The default value of n_estimators will change from 10 in version 0.20 to 100 in 0.22.\n",
      "  \"10 in version 0.20 to 100 in 0.22.\", FutureWarning)\n",
      "C:\\Users\\laksh\\Anaconda3\\lib\\site-packages\\sklearn\\ensemble\\forest.py:245: FutureWarning: The default value of n_estimators will change from 10 in version 0.20 to 100 in 0.22.\n",
      "  \"10 in version 0.20 to 100 in 0.22.\", FutureWarning)\n",
      "C:\\Users\\laksh\\Anaconda3\\lib\\site-packages\\sklearn\\ensemble\\forest.py:245: FutureWarning: The default value of n_estimators will change from 10 in version 0.20 to 100 in 0.22.\n",
      "  \"10 in version 0.20 to 100 in 0.22.\", FutureWarning)\n",
      "C:\\Users\\laksh\\Anaconda3\\lib\\site-packages\\sklearn\\ensemble\\forest.py:245: FutureWarning: The default value of n_estimators will change from 10 in version 0.20 to 100 in 0.22.\n",
      "  \"10 in version 0.20 to 100 in 0.22.\", FutureWarning)\n",
      "C:\\Users\\laksh\\Anaconda3\\lib\\site-packages\\sklearn\\ensemble\\forest.py:245: FutureWarning: The default value of n_estimators will change from 10 in version 0.20 to 100 in 0.22.\n",
      "  \"10 in version 0.20 to 100 in 0.22.\", FutureWarning)\n",
      "C:\\Users\\laksh\\Anaconda3\\lib\\site-packages\\sklearn\\ensemble\\forest.py:245: FutureWarning: The default value of n_estimators will change from 10 in version 0.20 to 100 in 0.22.\n",
      "  \"10 in version 0.20 to 100 in 0.22.\", FutureWarning)\n",
      "C:\\Users\\laksh\\Anaconda3\\lib\\site-packages\\sklearn\\ensemble\\forest.py:245: FutureWarning: The default value of n_estimators will change from 10 in version 0.20 to 100 in 0.22.\n",
      "  \"10 in version 0.20 to 100 in 0.22.\", FutureWarning)\n",
      "C:\\Users\\laksh\\Anaconda3\\lib\\site-packages\\sklearn\\ensemble\\forest.py:245: FutureWarning: The default value of n_estimators will change from 10 in version 0.20 to 100 in 0.22.\n",
      "  \"10 in version 0.20 to 100 in 0.22.\", FutureWarning)\n",
      "C:\\Users\\laksh\\Anaconda3\\lib\\site-packages\\sklearn\\ensemble\\forest.py:245: FutureWarning: The default value of n_estimators will change from 10 in version 0.20 to 100 in 0.22.\n",
      "  \"10 in version 0.20 to 100 in 0.22.\", FutureWarning)\n"
     ]
    }
   ],
   "source": [
    "from sklearn.model_selection import cross_val_score\n",
    "#knn = KNeighborsClassifier(n_neighbors=5)\n",
    "rfclass=RandomForestClassifier()\n",
    "# Use cross_val_score function\n",
    "# We are passing the entirety of X and y, not X_train or y_train, it takes care of splitting the dat\n",
    "# cv=10 for 10 folds\n",
    "# scoring='accuracy' for evaluation metric - althought they are many\n",
    "scores = cross_val_score(rfclass, X, Y, cv=10)"
   ]
  },
  {
   "cell_type": "code",
   "execution_count": 99,
   "metadata": {},
   "outputs": [
    {
     "name": "stdout",
     "output_type": "stream",
     "text": [
      "0.001483690157071406\n"
     ]
    }
   ],
   "source": [
    "print(np.var(scores))"
   ]
  },
  {
   "cell_type": "markdown",
   "metadata": {},
   "source": [
    "# MLP with rms_prop"
   ]
  },
  {
   "cell_type": "code",
   "execution_count": 100,
   "metadata": {
    "scrolled": false
   },
   "outputs": [
    {
     "name": "stdout",
     "output_type": "stream",
     "text": [
      "Epoch 1/50\n",
      "7500/7500 [==============================] - 4s 487us/step - loss: 0.4637 - accuracy: 0.7688\n",
      "Epoch 2/50\n",
      "7500/7500 [==============================] - 3s 391us/step - loss: 0.4365 - accuracy: 0.7783\n",
      "Epoch 3/50\n",
      "7500/7500 [==============================] - 3s 388us/step - loss: 0.4270 - accuracy: 0.7828\n",
      "Epoch 4/50\n",
      "7500/7500 [==============================] - 3s 392us/step - loss: 0.4289 - accuracy: 0.7869\n",
      "Epoch 5/50\n",
      "7500/7500 [==============================] - 3s 418us/step - loss: 0.4333 - accuracy: 0.7848\n",
      "Epoch 6/50\n",
      "7500/7500 [==============================] - 3s 424us/step - loss: 0.4255 - accuracy: 0.7881\n",
      "Epoch 7/50\n",
      "7500/7500 [==============================] - 3s 394us/step - loss: 0.4208 - accuracy: 0.7855\n",
      "Epoch 8/50\n",
      "7500/7500 [==============================] - 3s 407us/step - loss: 0.4242 - accuracy: 0.7844\n",
      "Epoch 9/50\n",
      "7500/7500 [==============================] - 3s 401us/step - loss: 0.4234 - accuracy: 0.7885\n",
      "Epoch 10/50\n",
      "7500/7500 [==============================] - 3s 402us/step - loss: 0.4222 - accuracy: 0.7907\n",
      "Epoch 11/50\n",
      "7500/7500 [==============================] - 3s 410us/step - loss: 0.4252 - accuracy: 0.7920\n",
      "Epoch 12/50\n",
      "7500/7500 [==============================] - 3s 413us/step - loss: 0.4252 - accuracy: 0.7893\n",
      "Epoch 13/50\n",
      "7500/7500 [==============================] - 3s 407us/step - loss: 0.4232 - accuracy: 0.7848\n",
      "Epoch 14/50\n",
      "7500/7500 [==============================] - 3s 410us/step - loss: 0.4258 - accuracy: 0.7861\n",
      "Epoch 15/50\n",
      "7500/7500 [==============================] - 3s 409us/step - loss: 0.4365 - accuracy: 0.7883\n",
      "Epoch 16/50\n",
      "7500/7500 [==============================] - 3s 404us/step - loss: 0.4206 - accuracy: 0.7912\n",
      "Epoch 17/50\n",
      "7500/7500 [==============================] - 3s 450us/step - loss: 0.4309 - accuracy: 0.7924\n",
      "Epoch 18/50\n",
      "7500/7500 [==============================] - 3s 413us/step - loss: 0.4501 - accuracy: 0.7891\n",
      "Epoch 19/50\n",
      "7500/7500 [==============================] - 3s 406us/step - loss: 0.4351 - accuracy: 0.7899\n",
      "Epoch 20/50\n",
      "7500/7500 [==============================] - 3s 406us/step - loss: 0.4364 - accuracy: 0.7928\n",
      "Epoch 21/50\n",
      "7500/7500 [==============================] - 3s 407us/step - loss: 0.4434 - accuracy: 0.7916\n",
      "Epoch 22/50\n",
      "7500/7500 [==============================] - 3s 417us/step - loss: 0.4563 - accuracy: 0.7900\n",
      "Epoch 23/50\n",
      "7500/7500 [==============================] - 3s 429us/step - loss: 0.4371 - accuracy: 0.7885\n",
      "Epoch 24/50\n",
      "7500/7500 [==============================] - 3s 423us/step - loss: 0.4816 - accuracy: 0.7885\n",
      "Epoch 25/50\n",
      "7500/7500 [==============================] - 3s 405us/step - loss: 0.4561 - accuracy: 0.7928\n",
      "Epoch 26/50\n",
      "7500/7500 [==============================] - 3s 418us/step - loss: 0.4421 - accuracy: 0.7911\n",
      "Epoch 27/50\n",
      "7500/7500 [==============================] - 3s 403us/step - loss: 0.4532 - accuracy: 0.7869\n",
      "Epoch 28/50\n",
      "7500/7500 [==============================] - 3s 409us/step - loss: 0.4358 - accuracy: 0.7863\n",
      "Epoch 29/50\n",
      "7500/7500 [==============================] - 3s 419us/step - loss: 0.4320 - accuracy: 0.7940\n",
      "Epoch 30/50\n",
      "7500/7500 [==============================] - 3s 408us/step - loss: 0.4453 - accuracy: 0.7891\n",
      "Epoch 31/50\n",
      "7500/7500 [==============================] - 3s 413us/step - loss: 0.4539 - accuracy: 0.7868\n",
      "Epoch 32/50\n",
      "7500/7500 [==============================] - 3s 410us/step - loss: 0.4650 - accuracy: 0.7867\n",
      "Epoch 33/50\n",
      "7500/7500 [==============================] - 3s 409us/step - loss: 0.4521 - accuracy: 0.7869\n",
      "Epoch 34/50\n",
      "7500/7500 [==============================] - 3s 405us/step - loss: 0.4629 - accuracy: 0.7932\n",
      "Epoch 35/50\n",
      "7500/7500 [==============================] - 3s 410us/step - loss: 0.4346 - accuracy: 0.7888\n",
      "Epoch 36/50\n",
      "7500/7500 [==============================] - 3s 410us/step - loss: 0.4437 - accuracy: 0.7921\n",
      "Epoch 37/50\n",
      "7500/7500 [==============================] - 3s 412us/step - loss: 0.4332 - accuracy: 0.7927\n",
      "Epoch 38/50\n",
      "7500/7500 [==============================] - 3s 404us/step - loss: 0.4237 - accuracy: 0.7879\n",
      "Epoch 39/50\n",
      "7500/7500 [==============================] - 3s 422us/step - loss: 0.4322 - accuracy: 0.7912\n",
      "Epoch 40/50\n",
      "7500/7500 [==============================] - 4s 536us/step - loss: 0.4388 - accuracy: 0.7979\n",
      "Epoch 41/50\n",
      "7500/7500 [==============================] - 4s 546us/step - loss: 0.4344 - accuracy: 0.7984\n",
      "Epoch 42/50\n",
      "7500/7500 [==============================] - 3s 423us/step - loss: 0.4672 - accuracy: 0.7919\n",
      "Epoch 43/50\n",
      "7500/7500 [==============================] - 3s 427us/step - loss: 0.4219 - accuracy: 0.7980\n",
      "Epoch 44/50\n",
      "7500/7500 [==============================] - 3s 421us/step - loss: 0.4343 - accuracy: 0.7936\n",
      "Epoch 45/50\n",
      "7500/7500 [==============================] - 3s 428us/step - loss: 0.4327 - accuracy: 0.7971\n",
      "Epoch 46/50\n",
      "7500/7500 [==============================] - 3s 437us/step - loss: 0.4809 - accuracy: 0.7937\n",
      "Epoch 47/50\n",
      "7500/7500 [==============================] - 3s 410us/step - loss: 0.4589 - accuracy: 0.7911\n",
      "Epoch 48/50\n",
      "7500/7500 [==============================] - 3s 418us/step - loss: 0.4492 - accuracy: 0.7987\n",
      "Epoch 49/50\n",
      "7500/7500 [==============================] - 3s 420us/step - loss: 0.4374 - accuracy: 0.7955\n",
      "Epoch 50/50\n",
      "7500/7500 [==============================] - 3s 434us/step - loss: 0.4613 - accuracy: 0.7963\n"
     ]
    }
   ],
   "source": [
    "def create_network():\n",
    "    model=Sequential()\n",
    "    model.add(Dense(100, input_dim=18, activation='relu'))\n",
    "    model.add(Dense(80, activation='relu'))\n",
    "    model.add(Dense(60, activation='relu'))\n",
    "    model.add(Dense(40, activation='relu'))\n",
    "    #model.add(Dense(30, activation='relu'))\n",
    "    model.add(Dense(2, activation='softmax'))\n",
    "    model.compile(loss='sparse_categorical_crossentropy', optimizer='rmsprop', metrics=['accuracy'])\n",
    "    #Y_train1= keras.utils.to_categorical(Y_train)\n",
    "    return model\n",
    "model = create_network()\n",
    "historyrms=model.fit(X_train, Y_train, epochs=50, batch_size=10)"
   ]
  },
  {
   "cell_type": "code",
   "execution_count": 102,
   "metadata": {},
   "outputs": [
    {
     "data": {
      "image/png": "[encoded data removed]",
      "text/plain": [
       "<Figure size 432x288 with 1 Axes>"
      ]
     },
     "metadata": {
      "needs_background": "light"
     },
     "output_type": "display_data"
    }
   ],
   "source": [
    "plot=np.arange(0,50,1)\n",
    "lossplotrmsprop1=(historyrms.history['loss'])\n",
    "plt.scatter(plot,lossplotrmsprop1)\n",
    "plt.title('Loss vs Epoch (rmsprop)')\n",
    "plt.xlabel('Epoch')\n",
    "plt.ylabel('Loss')\n",
    "plt.grid()\n",
    "#plt.ylim((0.395,0.435))\n",
    "plt.show()"
   ]
  },
  {
   "cell_type": "code",
   "execution_count": 105,
   "metadata": {},
   "outputs": [],
   "source": [
    "from sklearn.model_selection import cross_val_score\n",
    "from keras.wrappers.scikit_learn import KerasClassifier\n",
    "# Wrap Keras model so it can be used by scikit-learn\n",
    "neural_network = KerasClassifier(build_fn=create_network, \n",
    "                                 epochs=10, \n",
    "                                 batch_size=100, \n",
    "                                 verbose=0)\n",
    "scores = cross_val_score(neural_network,X, Y, cv=5)"
   ]
  },
  {
   "cell_type": "code",
   "execution_count": 106,
   "metadata": {},
   "outputs": [
    {
     "name": "stdout",
     "output_type": "stream",
     "text": [
      "0.7910000085830688\n",
      "0.6919999718666077\n",
      "0.0011964608898546202\n"
     ]
    }
   ],
   "source": [
    "print(scores.max())\n",
    "print(scores.min())\n",
    "print(np.var(scores))"
   ]
  },
  {
   "cell_type": "code",
   "execution_count": 107,
   "metadata": {},
   "outputs": [
    {
     "name": "stdout",
     "output_type": "stream",
     "text": [
      "7500/7500 [==============================] - 2s 216us/step\n",
      "Accuracy: 79.52\n"
     ]
    }
   ],
   "source": [
    "accuracy = model.evaluate(X_train, Y_train)\n",
    "print('Accuracy: %.2f' % (accuracy[1]*100))"
   ]
  },
  {
   "cell_type": "code",
   "execution_count": 108,
   "metadata": {},
   "outputs": [
    {
     "name": "stdout",
     "output_type": "stream",
     "text": [
      "Model: \"sequential_82\"\n",
      "_________________________________________________________________\n",
      "Layer (type)                 Output Shape              Param #   \n",
      "=================================================================\n",
      "dense_478 (Dense)            (None, 100)               1900      \n",
      "_________________________________________________________________\n",
      "dense_479 (Dense)            (None, 80)                8080      \n",
      "_________________________________________________________________\n",
      "dense_480 (Dense)            (None, 60)                4860      \n",
      "_________________________________________________________________\n",
      "dense_481 (Dense)            (None, 40)                2440      \n",
      "_________________________________________________________________\n",
      "dense_482 (Dense)            (None, 2)                 82        \n",
      "=================================================================\n",
      "Total params: 17,362\n",
      "Trainable params: 17,362\n",
      "Non-trainable params: 0\n",
      "_________________________________________________________________\n",
      "None\n"
     ]
    }
   ],
   "source": [
    "print(model.summary())"
   ]
  },
  {
   "cell_type": "code",
   "execution_count": 109,
   "metadata": {},
   "outputs": [
    {
     "name": "stdout",
     "output_type": "stream",
     "text": [
      "2500/2500 [==============================] - 0s 123us/step\n",
      "Accuracy: 78.08\n"
     ]
    }
   ],
   "source": [
    "accuracy = model.evaluate(X_test, Y_test)\n",
    "print('Accuracy: %.2f' % (accuracy[1]*100))"
   ]
  },
  {
   "cell_type": "markdown",
   "metadata": {},
   "source": [
    "# MLP with SGD optimizer"
   ]
  },
  {
   "cell_type": "code",
   "execution_count": 112,
   "metadata": {},
   "outputs": [
    {
     "name": "stdout",
     "output_type": "stream",
     "text": [
      "Epoch 1/50\n",
      "7500/7500 [==============================] - 5s 651us/step - loss: 0.5135 - accuracy: 0.7720\n",
      "Epoch 2/50\n",
      "7500/7500 [==============================] - 3s 457us/step - loss: 0.4419 - accuracy: 0.7768\n",
      "Epoch 3/50\n",
      "7500/7500 [==============================] - 3s 447us/step - loss: 0.4284 - accuracy: 0.7837\n",
      "Epoch 4/50\n",
      "7500/7500 [==============================] - 3s 432us/step - loss: 0.4243 - accuracy: 0.7844\n",
      "Epoch 5/50\n",
      "7500/7500 [==============================] - 4s 488us/step - loss: 0.4188 - accuracy: 0.7889\n",
      "Epoch 6/50\n",
      "7500/7500 [==============================] - 3s 451us/step - loss: 0.4185 - accuracy: 0.7868\n",
      "Epoch 7/50\n",
      "7500/7500 [==============================] - 4s 475us/step - loss: 0.4146 - accuracy: 0.7916\n",
      "Epoch 8/50\n",
      "7500/7500 [==============================] - 4s 533us/step - loss: 0.4134 - accuracy: 0.7880\n",
      "Epoch 9/50\n",
      "7500/7500 [==============================] - 3s 442us/step - loss: 0.4117 - accuracy: 0.7901\n",
      "Epoch 10/50\n",
      "7500/7500 [==============================] - 4s 501us/step - loss: 0.4111 - accuracy: 0.7911\n",
      "Epoch 11/50\n",
      "7500/7500 [==============================] - 4s 542us/step - loss: 0.4108 - accuracy: 0.7899\n",
      "Epoch 12/50\n",
      "7500/7500 [==============================] - 4s 484us/step - loss: 0.4085 - accuracy: 0.7896\n",
      "Epoch 13/50\n",
      "7500/7500 [==============================] - 4s 528us/step - loss: 0.4068 - accuracy: 0.7927\n",
      "Epoch 14/50\n",
      "7500/7500 [==============================] - 5s 649us/step - loss: 0.4055 - accuracy: 0.7923\n",
      "Epoch 15/50\n",
      "7500/7500 [==============================] - 4s 499us/step - loss: 0.4060 - accuracy: 0.7916\n",
      "Epoch 16/50\n",
      "7500/7500 [==============================] - 3s 400us/step - loss: 0.4036 - accuracy: 0.7979\n",
      "Epoch 17/50\n",
      "7500/7500 [==============================] - 3s 414us/step - loss: 0.4022 - accuracy: 0.7965\n",
      "Epoch 18/50\n",
      "7500/7500 [==============================] - 3s 393us/step - loss: 0.4019 - accuracy: 0.8021\n",
      "Epoch 19/50\n",
      "7500/7500 [==============================] - 3s 393us/step - loss: 0.4010 - accuracy: 0.7992\n",
      "Epoch 20/50\n",
      "7500/7500 [==============================] - 3s 405us/step - loss: 0.4003 - accuracy: 0.7971\n",
      "Epoch 21/50\n",
      "7500/7500 [==============================] - 3s 396us/step - loss: 0.4000 - accuracy: 0.7976\n",
      "Epoch 22/50\n",
      "7500/7500 [==============================] - 3s 393us/step - loss: 0.3985 - accuracy: 0.7976\n",
      "Epoch 23/50\n",
      "7500/7500 [==============================] - 3s 397us/step - loss: 0.3977 - accuracy: 0.7988\n",
      "Epoch 24/50\n",
      "7500/7500 [==============================] - 3s 395us/step - loss: 0.3979 - accuracy: 0.8013\n",
      "Epoch 25/50\n",
      "7500/7500 [==============================] - 3s 393us/step - loss: 0.3961 - accuracy: 0.8000\n",
      "Epoch 26/50\n",
      "7500/7500 [==============================] - 3s 396us/step - loss: 0.3976 - accuracy: 0.7999\n",
      "Epoch 27/50\n",
      "7500/7500 [==============================] - 3s 394us/step - loss: 0.3964 - accuracy: 0.7989\n",
      "Epoch 28/50\n",
      "7500/7500 [==============================] - 3s 390us/step - loss: 0.3943 - accuracy: 0.7991\n",
      "Epoch 29/50\n",
      "7500/7500 [==============================] - 3s 402us/step - loss: 0.3945 - accuracy: 0.7992\n",
      "Epoch 30/50\n",
      "7500/7500 [==============================] - 3s 414us/step - loss: 0.3933 - accuracy: 0.8056\n",
      "Epoch 31/50\n",
      "7500/7500 [==============================] - 3s 397us/step - loss: 0.3943 - accuracy: 0.8033\n",
      "Epoch 32/50\n",
      "7500/7500 [==============================] - 3s 404us/step - loss: 0.3918 - accuracy: 0.8009\n",
      "Epoch 33/50\n",
      "7500/7500 [==============================] - 3s 408us/step - loss: 0.3915 - accuracy: 0.8015\n",
      "Epoch 34/50\n",
      "7500/7500 [==============================] - 3s 403us/step - loss: 0.3906 - accuracy: 0.8068\n",
      "Epoch 35/50\n",
      "7500/7500 [==============================] - 3s 420us/step - loss: 0.3920 - accuracy: 0.8072\n",
      "Epoch 36/50\n",
      "7500/7500 [==============================] - 3s 392us/step - loss: 0.3903 - accuracy: 0.8053\n",
      "Epoch 37/50\n",
      "7500/7500 [==============================] - 3s 397us/step - loss: 0.3910 - accuracy: 0.8048\n",
      "Epoch 38/50\n",
      "7500/7500 [==============================] - 3s 405us/step - loss: 0.3896 - accuracy: 0.8065\n",
      "Epoch 39/50\n",
      "7500/7500 [==============================] - 3s 396us/step - loss: 0.3883 - accuracy: 0.8040\n",
      "Epoch 40/50\n",
      "7500/7500 [==============================] - 3s 407us/step - loss: 0.3883 - accuracy: 0.8044\n",
      "Epoch 41/50\n",
      "7500/7500 [==============================] - 3s 395us/step - loss: 0.3869 - accuracy: 0.8047\n",
      "Epoch 42/50\n",
      "7500/7500 [==============================] - 3s 398us/step - loss: 0.3889 - accuracy: 0.8021\n",
      "Epoch 43/50\n",
      "7500/7500 [==============================] - 3s 449us/step - loss: 0.3867 - accuracy: 0.8057\n",
      "Epoch 44/50\n",
      "7500/7500 [==============================] - 3s 413us/step - loss: 0.3870 - accuracy: 0.8045\n",
      "Epoch 45/50\n",
      "7500/7500 [==============================] - 4s 498us/step - loss: 0.3910 - accuracy: 0.8041\n",
      "Epoch 46/50\n",
      "7500/7500 [==============================] - 3s 429us/step - loss: 0.3888 - accuracy: 0.8017\n",
      "Epoch 47/50\n",
      "7500/7500 [==============================] - 4s 529us/step - loss: 0.3848 - accuracy: 0.8068\n",
      "Epoch 48/50\n",
      "7500/7500 [==============================] - 4s 476us/step - loss: 0.3848 - accuracy: 0.8079\n",
      "Epoch 49/50\n",
      "7500/7500 [==============================] - 4s 476us/step - loss: 0.3845 - accuracy: 0.8085\n",
      "Epoch 50/50\n",
      "7500/7500 [==============================] - 3s 400us/step - loss: 0.3823 - accuracy: 0.8097\n"
     ]
    }
   ],
   "source": [
    "def create_network2():\n",
    "    model=Sequential()\n",
    "    model.add(Dense(60, input_dim=18, activation='relu'))\n",
    "    model.add(Dense(30, activation='relu'))\n",
    "    model.add(Dense(50, activation='relu'))\n",
    "    model.add(Dense(70, activation='relu'))\n",
    "    model.add(Dense(40, activation='relu'))\n",
    "    #model.add(Dense(30, activation='relu'))\n",
    "    model.add(Dense(2, activation='softmax'))\n",
    "    model.compile(loss='sparse_categorical_crossentropy', optimizer='SGD', metrics=['accuracy'])\n",
    "    #Y_train1= keras.utils.to_categorical(Y_train)\n",
    "    return model\n",
    "model = create_network2()\n",
    "historysgd=model.fit(X_train, Y_train, epochs=50, batch_size=10)"
   ]
  },
  {
   "cell_type": "code",
   "execution_count": 113,
   "metadata": {},
   "outputs": [
    {
     "data": {
      "image/png": "[encoded data removed]",
      "text/plain": [
       "<Figure size 432x288 with 1 Axes>"
      ]
     },
     "metadata": {
      "needs_background": "light"
     },
     "output_type": "display_data"
    }
   ],
   "source": [
    "plot=np.arange(0,50,1)\n",
    "lossplotSGD1=(historysgd.history['loss'])\n",
    "plt.scatter(plot,lossplotSGD1)\n",
    "plt.title('Loss vs Epoch (SGD)')\n",
    "plt.xlabel('Epoch')\n",
    "plt.ylabel('Loss')\n",
    "plt.grid()\n",
    "#plt.ylim((0.395,0.435))\n",
    "plt.show()"
   ]
  },
  {
   "cell_type": "code",
   "execution_count": 115,
   "metadata": {},
   "outputs": [],
   "source": [
    "from sklearn.model_selection import cross_val_score\n",
    "from keras.wrappers.scikit_learn import KerasClassifier\n",
    "# Wrap Keras model so it can be used by scikit-learn\n",
    "neural_network2 = KerasClassifier(build_fn=create_network2, \n",
    "                                 epochs=10, \n",
    "                                 batch_size=100, \n",
    "                                 verbose=0)\n",
    "# Use cross_val_score function\n",
    "\n",
    "scores = cross_val_score(neural_network2,X, Y, cv=10)"
   ]
  },
  {
   "cell_type": "code",
   "execution_count": 116,
   "metadata": {},
   "outputs": [
    {
     "name": "stdout",
     "output_type": "stream",
     "text": [
      "0.8640000224113464\n",
      "0.5870000123977661\n",
      "0.00542500017881423\n"
     ]
    }
   ],
   "source": [
    "print(scores.max())\n",
    "print(scores.min())\n",
    "print(np.var(scores))"
   ]
  },
  {
   "cell_type": "code",
   "execution_count": 117,
   "metadata": {},
   "outputs": [
    {
     "name": "stdout",
     "output_type": "stream",
     "text": [
      "7500/7500 [==============================] - 2s 256us/step\n",
      "Accuracy: 81.32\n"
     ]
    }
   ],
   "source": [
    "accuracy = model.evaluate(X_train, Y_train)\n",
    "print('Accuracy: %.2f' % (accuracy[1]*100))"
   ]
  },
  {
   "cell_type": "code",
   "execution_count": 118,
   "metadata": {},
   "outputs": [
    {
     "name": "stdout",
     "output_type": "stream",
     "text": [
      "Model: \"sequential_90\"\n",
      "_________________________________________________________________\n",
      "Layer (type)                 Output Shape              Param #   \n",
      "=================================================================\n",
      "dense_519 (Dense)            (None, 60)                1140      \n",
      "_________________________________________________________________\n",
      "dense_520 (Dense)            (None, 30)                1830      \n",
      "_________________________________________________________________\n",
      "dense_521 (Dense)            (None, 50)                1550      \n",
      "_________________________________________________________________\n",
      "dense_522 (Dense)            (None, 70)                3570      \n",
      "_________________________________________________________________\n",
      "dense_523 (Dense)            (None, 40)                2840      \n",
      "_________________________________________________________________\n",
      "dense_524 (Dense)            (None, 2)                 82        \n",
      "=================================================================\n",
      "Total params: 11,012\n",
      "Trainable params: 11,012\n",
      "Non-trainable params: 0\n",
      "_________________________________________________________________\n",
      "None\n"
     ]
    }
   ],
   "source": [
    "print(model.summary())"
   ]
  },
  {
   "cell_type": "code",
   "execution_count": 119,
   "metadata": {},
   "outputs": [
    {
     "name": "stdout",
     "output_type": "stream",
     "text": [
      "2500/2500 [==============================] - 0s 142us/step\n",
      "Accuracy: 78.80\n"
     ]
    }
   ],
   "source": [
    "accuracy = model.evaluate(X_test, Y_test)\n",
    "print('Accuracy: %.2f' % (accuracy[1]*100))"
   ]
  },
  {
   "cell_type": "markdown",
   "metadata": {},
   "source": [
    "# MLP with Adam optimiser"
   ]
  },
  {
   "cell_type": "code",
   "execution_count": 120,
   "metadata": {},
   "outputs": [
    {
     "name": "stdout",
     "output_type": "stream",
     "text": [
      "Epoch 1/50\n",
      "7500/7500 [==============================] - 5s 607us/step - loss: 0.4605 - accuracy: 0.7697\n",
      "Epoch 2/50\n",
      "7500/7500 [==============================] - 4s 471us/step - loss: 0.4284 - accuracy: 0.7839\n",
      "Epoch 3/50\n",
      "7500/7500 [==============================] - 4s 477us/step - loss: 0.4224 - accuracy: 0.7851\n",
      "Epoch 4/50\n",
      "7500/7500 [==============================] - 4s 478us/step - loss: 0.4198 - accuracy: 0.7873\n",
      "Epoch 5/50\n",
      "7500/7500 [==============================] - 4s 479us/step - loss: 0.4150 - accuracy: 0.7905\n",
      "Epoch 6/50\n",
      "7500/7500 [==============================] - 4s 493us/step - loss: 0.4100 - accuracy: 0.7949\n",
      "Epoch 7/50\n",
      "7500/7500 [==============================] - 4s 506us/step - loss: 0.4072 - accuracy: 0.7948\n",
      "Epoch 8/50\n",
      "7500/7500 [==============================] - 4s 496us/step - loss: 0.4058 - accuracy: 0.7980\n",
      "Epoch 9/50\n",
      "7500/7500 [==============================] - 4s 500us/step - loss: 0.4007 - accuracy: 0.7953\n",
      "Epoch 10/50\n",
      "7500/7500 [==============================] - 4s 507us/step - loss: 0.4010 - accuracy: 0.7961\n",
      "Epoch 11/50\n",
      "7500/7500 [==============================] - 4s 505us/step - loss: 0.4014 - accuracy: 0.7971\n",
      "Epoch 12/50\n",
      "7500/7500 [==============================] - 4s 517us/step - loss: 0.3972 - accuracy: 0.7956\n",
      "Epoch 13/50\n",
      "7500/7500 [==============================] - 5s 725us/step - loss: 0.3945 - accuracy: 0.7980\n",
      "Epoch 14/50\n",
      "7500/7500 [==============================] - 4s 535us/step - loss: 0.3936 - accuracy: 0.8032\n",
      "Epoch 15/50\n",
      "7500/7500 [==============================] - 4s 477us/step - loss: 0.3890 - accuracy: 0.8039\n",
      "Epoch 16/50\n",
      "7500/7500 [==============================] - 4s 475us/step - loss: 0.3911 - accuracy: 0.8020\n",
      "Epoch 17/50\n",
      "7500/7500 [==============================] - 4s 480us/step - loss: 0.3867 - accuracy: 0.8025\n",
      "Epoch 18/50\n",
      "7500/7500 [==============================] - 4s 584us/step - loss: 0.3841 - accuracy: 0.8032\n",
      "Epoch 19/50\n",
      "7500/7500 [==============================] - 4s 518us/step - loss: 0.3876 - accuracy: 0.8067\n",
      "Epoch 20/50\n",
      "7500/7500 [==============================] - 4s 512us/step - loss: 0.3847 - accuracy: 0.8039\n",
      "Epoch 21/50\n",
      "7500/7500 [==============================] - 4s 516us/step - loss: 0.3833 - accuracy: 0.8077\n",
      "Epoch 22/50\n",
      "7500/7500 [==============================] - 4s 515us/step - loss: 0.3755 - accuracy: 0.8115\n",
      "Epoch 23/50\n",
      "7500/7500 [==============================] - 4s 518us/step - loss: 0.3725 - accuracy: 0.8131\n",
      "Epoch 24/50\n",
      "7500/7500 [==============================] - 4s 513us/step - loss: 0.3744 - accuracy: 0.8083\n",
      "Epoch 25/50\n",
      "7500/7500 [==============================] - 4s 512us/step - loss: 0.3723 - accuracy: 0.8168\n",
      "Epoch 26/50\n",
      "7500/7500 [==============================] - 4s 513us/step - loss: 0.3704 - accuracy: 0.8161\n",
      "Epoch 27/50\n",
      "7500/7500 [==============================] - 4s 515us/step - loss: 0.3679 - accuracy: 0.8179\n",
      "Epoch 28/50\n",
      "7500/7500 [==============================] - 4s 519us/step - loss: 0.3669 - accuracy: 0.8193\n",
      "Epoch 29/50\n",
      "7500/7500 [==============================] - 4s 512us/step - loss: 0.3646 - accuracy: 0.8179\n",
      "Epoch 30/50\n",
      "7500/7500 [==============================] - 4s 509us/step - loss: 0.3612 - accuracy: 0.8207\n",
      "Epoch 31/50\n",
      "7500/7500 [==============================] - 4s 520us/step - loss: 0.3650 - accuracy: 0.8235\n",
      "Epoch 32/50\n",
      "7500/7500 [==============================] - 4s 514us/step - loss: 0.3582 - accuracy: 0.8239\n",
      "Epoch 33/50\n",
      "7500/7500 [==============================] - 4s 520us/step - loss: 0.3537 - accuracy: 0.8284\n",
      "Epoch 34/50\n",
      "7500/7500 [==============================] - 4s 516us/step - loss: 0.3553 - accuracy: 0.8303\n",
      "Epoch 35/50\n",
      "7500/7500 [==============================] - 4s 513us/step - loss: 0.3530 - accuracy: 0.8312\n",
      "Epoch 36/50\n",
      "7500/7500 [==============================] - 4s 515us/step - loss: 0.3517 - accuracy: 0.8293\n",
      "Epoch 37/50\n",
      "7500/7500 [==============================] - 4s 514us/step - loss: 0.3518 - accuracy: 0.8315\n",
      "Epoch 38/50\n",
      "7500/7500 [==============================] - 4s 517us/step - loss: 0.3443 - accuracy: 0.8356\n",
      "Epoch 39/50\n",
      "7500/7500 [==============================] - 4s 516us/step - loss: 0.3460 - accuracy: 0.8343\n",
      "Epoch 40/50\n",
      "7500/7500 [==============================] - 4s 514us/step - loss: 0.3451 - accuracy: 0.8333\n",
      "Epoch 41/50\n",
      "7500/7500 [==============================] - 4s 514us/step - loss: 0.3406 - accuracy: 0.8411\n",
      "Epoch 42/50\n",
      "7500/7500 [==============================] - 4s 515us/step - loss: 0.3395 - accuracy: 0.8392\n",
      "Epoch 43/50\n",
      "7500/7500 [==============================] - 4s 521us/step - loss: 0.3388 - accuracy: 0.8417\n",
      "Epoch 44/50\n",
      "7500/7500 [==============================] - 4s 515us/step - loss: 0.3424 - accuracy: 0.8388\n",
      "Epoch 45/50\n",
      "7500/7500 [==============================] - 4s 532us/step - loss: 0.3371 - accuracy: 0.8427\n",
      "Epoch 46/50\n",
      "7500/7500 [==============================] - 4s 523us/step - loss: 0.3340 - accuracy: 0.8439\n",
      "Epoch 47/50\n",
      "7500/7500 [==============================] - 4s 529us/step - loss: 0.3339 - accuracy: 0.8441\n",
      "Epoch 48/50\n",
      "7500/7500 [==============================] - 4s 511us/step - loss: 0.3363 - accuracy: 0.8424\n",
      "Epoch 49/50\n",
      "7500/7500 [==============================] - 4s 518us/step - loss: 0.3336 - accuracy: 0.8441\n",
      "Epoch 50/50\n",
      "7500/7500 [==============================] - 4s 515us/step - loss: 0.3333 - accuracy: 0.8417\n"
     ]
    }
   ],
   "source": [
    "def create_network3():\n",
    "    model=Sequential()\n",
    "    model.add(Dense(60, input_dim=18, activation='relu'))\n",
    "    model.add(Dense(30, activation='relu'))\n",
    "    model.add(Dense(50, activation='relu'))\n",
    "    model.add(Dense(70, activation='relu'))\n",
    "    model.add(Dense(40, activation='relu'))\n",
    "    #model.add(Dense(30, activation='relu'))\n",
    "    model.add(Dense(2, activation='softmax'))\n",
    "    model.compile(loss='sparse_categorical_crossentropy', optimizer='adam', metrics=['accuracy'])\n",
    "    #Y_train1= keras.utils.to_categorical(Y_train)\n",
    "    return model\n",
    "model = create_network3()\n",
    "historyadam=model.fit(X_train, Y_train, epochs=50, batch_size=10)"
   ]
  },
  {
   "cell_type": "code",
   "execution_count": 121,
   "metadata": {},
   "outputs": [
    {
     "data": {
      "image/png": "[encoded data removed]",
      "text/plain": [
       "<Figure size 432x288 with 1 Axes>"
      ]
     },
     "metadata": {
      "needs_background": "light"
     },
     "output_type": "display_data"
    }
   ],
   "source": [
    "plot=np.arange(0,50,1)\n",
    "lossplotadam1=(historyadam.history['loss'])\n",
    "plt.scatter(plot,lossplotadam1)\n",
    "plt.title('Loss vs Epoch (adam)')\n",
    "plt.xlabel('Epoch')\n",
    "plt.ylabel('Loss')\n",
    "plt.grid()\n",
    "#plt.ylim((0.395,0.435))\n",
    "plt.show()"
   ]
  },
  {
   "cell_type": "code",
   "execution_count": 122,
   "metadata": {},
   "outputs": [],
   "source": [
    "from sklearn.model_selection import cross_val_score\n",
    "from keras.wrappers.scikit_learn import KerasClassifier\n",
    "# Wrap Keras model so it can be used by scikit-learn\n",
    "neural_network3 = KerasClassifier(build_fn=create_network3, \n",
    "                                 epochs=10, \n",
    "                                 batch_size=100, \n",
    "                                 verbose=0)\n",
    "# Use cross_val_score function\n",
    "\n",
    "scores = cross_val_score(neural_network3,X, Y, cv=10)"
   ]
  },
  {
   "cell_type": "code",
   "execution_count": 123,
   "metadata": {},
   "outputs": [
    {
     "name": "stdout",
     "output_type": "stream",
     "text": [
      "0.8740000128746033\n",
      "0.6010000109672546\n",
      "0.006357690032062777\n"
     ]
    }
   ],
   "source": [
    "print(scores.max())\n",
    "print(scores.min())\n",
    "print(np.var(scores))"
   ]
  },
  {
   "cell_type": "code",
   "execution_count": 124,
   "metadata": {},
   "outputs": [
    {
     "name": "stdout",
     "output_type": "stream",
     "text": [
      "7500/7500 [==============================] - 2s 332us/step\n",
      "Accuracy: 85.39\n"
     ]
    }
   ],
   "source": [
    "accuracy = model.evaluate(X_train, Y_train)\n",
    "print('Accuracy: %.2f' % (accuracy[1]*100))"
   ]
  },
  {
   "cell_type": "code",
   "execution_count": 125,
   "metadata": {},
   "outputs": [
    {
     "name": "stdout",
     "output_type": "stream",
     "text": [
      "Model: \"sequential_102\"\n",
      "_________________________________________________________________\n",
      "Layer (type)                 Output Shape              Param #   \n",
      "=================================================================\n",
      "dense_591 (Dense)            (None, 60)                1140      \n",
      "_________________________________________________________________\n",
      "dense_592 (Dense)            (None, 30)                1830      \n",
      "_________________________________________________________________\n",
      "dense_593 (Dense)            (None, 50)                1550      \n",
      "_________________________________________________________________\n",
      "dense_594 (Dense)            (None, 70)                3570      \n",
      "_________________________________________________________________\n",
      "dense_595 (Dense)            (None, 40)                2840      \n",
      "_________________________________________________________________\n",
      "dense_596 (Dense)            (None, 2)                 82        \n",
      "=================================================================\n",
      "Total params: 11,012\n",
      "Trainable params: 11,012\n",
      "Non-trainable params: 0\n",
      "_________________________________________________________________\n",
      "None\n"
     ]
    }
   ],
   "source": [
    "print(model.summary())"
   ]
  },
  {
   "cell_type": "code",
   "execution_count": 126,
   "metadata": {},
   "outputs": [
    {
     "name": "stdout",
     "output_type": "stream",
     "text": [
      "2500/2500 [==============================] - 0s 164us/step\n",
      "Accuracy: 82.52\n"
     ]
    }
   ],
   "source": [
    "accuracy = model.evaluate(X_test, Y_test)\n",
    "print('Accuracy: %.2f' % (accuracy[1]*100))"
   ]
  },
  {
   "cell_type": "code",
   "execution_count": 127,
   "metadata": {},
   "outputs": [
    {
     "data": {
      "image/png": "[encoded data removed]",
      "text/plain": [
       "<Figure size 432x288 with 1 Axes>"
      ]
     },
     "metadata": {
      "needs_background": "light"
     },
     "output_type": "display_data"
    },
    {
     "data": {
      "image/png": "[encoded data removed]",
      "text/plain": [
       "<Figure size 432x288 with 1 Axes>"
      ]
     },
     "metadata": {
      "needs_background": "light"
     },
     "output_type": "display_data"
    }
   ],
   "source": [
    "plot=np.arange(0,50,1)\n",
    "plt.scatter(plot,lossplotrmsprop1, c='black', label='Rmsprop')\n",
    "plt.scatter(plot,lossplotadam1, c='blue', label='Adam')\n",
    "plt.scatter(plot,lossplotSGD1, c='red', label='SGD')\n",
    "plt.legend(bbox_to_anchor=(1,1))\n",
    "plt.grid()\n",
    "plt.title('Loss with Epoch for different optimizers (Convergence Criterion)')\n",
    "plt.xlabel('Epoch')\n",
    "plt.ylabel('Loss')\n",
    "plt.show()\n",
    "\n",
    "plot=np.arange(0,50,1)\n",
    "plt.plot(plot,lossplotrmsprop1, c='black', label='Rmsprop')\n",
    "plt.plot(plot,lossplotadam1, c='blue', label='Adam')\n",
    "plt.plot(plot,lossplotSGD1, c='red', label='SGD')\n",
    "plt.legend(bbox_to_anchor=(1,1))\n",
    "plt.grid()\n",
    "plt.title('Loss with Epoch for different optimizers (Convergence Criterion)')\n",
    "plt.xlabel('Epoch')\n",
    "plt.ylabel('Loss')\n",
    "plt.show()"
   ]
  },
  {
   "cell_type": "markdown",
   "metadata": {},
   "source": [
    "# LightGBM"
   ]
  },
  {
   "cell_type": "code",
   "execution_count": 128,
   "metadata": {},
   "outputs": [
    {
     "name": "stdout",
     "output_type": "stream",
     "text": [
      "Fitting training set...\n"
     ]
    },
    {
     "name": "stderr",
     "output_type": "stream",
     "text": [
      "C:\\Users\\laksh\\Anaconda3\\lib\\site-packages\\lightgbm\\engine.py:148: UserWarning: Found `num_iterations` in params. Will use it instead of argument\n",
      "  warnings.warn(\"Found `{}` in params. Will use it instead of argument\".format(alias))\n"
     ]
    },
    {
     "name": "stdout",
     "output_type": "stream",
     "text": [
      "Done\n",
      "Predicting on validation set...\n",
      "\n",
      "(2500,)\n",
      "\n",
      "DescribeResult(nobs=2500, minmax=(0.0, 1.0), mean=0.4896, variance=0.24999183673469388, skewness=0.0416090018330201, kurtosis=-1.99826869096646)\n",
      "\n",
      "[0. 0. 0. ... 1. 0. 1.]\n",
      "Score: 0.945200\n"
     ]
    }
   ],
   "source": [
    "\n",
    "import lightgbm as lgb\n",
    "from scipy import stats\n",
    "\n",
    "from sklearn.metrics import accuracy_score\n",
    "\n",
    "seed = 32\n",
    "np.random.seed(seed)\n",
    "\n",
    "lgbm_cl = lgb.LGBMClassifier(num_iterations=1500, num_leaves=2000, min_data_in_leaf=50, is_unbalance = False,application='binary', metric='binary_error')\n",
    "print (\"Fitting training set...\")\n",
    "lgbm_cl.fit(X_train, Y_train)\n",
    "print (\"Done\")\n",
    "print (\"Predicting on validation set...\")\n",
    "print (\"\")\n",
    "val_pred = lgbm_cl.predict(X_test)\n",
    "print (val_pred.shape)\n",
    "print (\"\")\n",
    "print (stats.describe(val_pred))\n",
    "print (\"\")\n",
    "print (val_pred)\n",
    "score = accuracy_score(Y_test, val_pred)\n",
    "print (\"Score: %f\" %(score))\n"
   ]
  },
  {
   "cell_type": "code",
   "execution_count": 129,
   "metadata": {},
   "outputs": [
    {
     "name": "stderr",
     "output_type": "stream",
     "text": [
      "C:\\Users\\laksh\\Anaconda3\\lib\\site-packages\\lightgbm\\engine.py:148: UserWarning: Found `num_iterations` in params. Will use it instead of argument\n",
      "  warnings.warn(\"Found `{}` in params. Will use it instead of argument\".format(alias))\n",
      "C:\\Users\\laksh\\Anaconda3\\lib\\site-packages\\lightgbm\\engine.py:148: UserWarning: Found `num_iterations` in params. Will use it instead of argument\n",
      "  warnings.warn(\"Found `{}` in params. Will use it instead of argument\".format(alias))\n",
      "C:\\Users\\laksh\\Anaconda3\\lib\\site-packages\\lightgbm\\engine.py:148: UserWarning: Found `num_iterations` in params. Will use it instead of argument\n",
      "  warnings.warn(\"Found `{}` in params. Will use it instead of argument\".format(alias))\n",
      "C:\\Users\\laksh\\Anaconda3\\lib\\site-packages\\lightgbm\\engine.py:148: UserWarning: Found `num_iterations` in params. Will use it instead of argument\n",
      "  warnings.warn(\"Found `{}` in params. Will use it instead of argument\".format(alias))\n",
      "C:\\Users\\laksh\\Anaconda3\\lib\\site-packages\\lightgbm\\engine.py:148: UserWarning: Found `num_iterations` in params. Will use it instead of argument\n",
      "  warnings.warn(\"Found `{}` in params. Will use it instead of argument\".format(alias))\n",
      "C:\\Users\\laksh\\Anaconda3\\lib\\site-packages\\lightgbm\\engine.py:148: UserWarning: Found `num_iterations` in params. Will use it instead of argument\n",
      "  warnings.warn(\"Found `{}` in params. Will use it instead of argument\".format(alias))\n",
      "C:\\Users\\laksh\\Anaconda3\\lib\\site-packages\\lightgbm\\engine.py:148: UserWarning: Found `num_iterations` in params. Will use it instead of argument\n",
      "  warnings.warn(\"Found `{}` in params. Will use it instead of argument\".format(alias))\n",
      "C:\\Users\\laksh\\Anaconda3\\lib\\site-packages\\lightgbm\\engine.py:148: UserWarning: Found `num_iterations` in params. Will use it instead of argument\n",
      "  warnings.warn(\"Found `{}` in params. Will use it instead of argument\".format(alias))\n",
      "C:\\Users\\laksh\\Anaconda3\\lib\\site-packages\\lightgbm\\engine.py:148: UserWarning: Found `num_iterations` in params. Will use it instead of argument\n",
      "  warnings.warn(\"Found `{}` in params. Will use it instead of argument\".format(alias))\n",
      "C:\\Users\\laksh\\Anaconda3\\lib\\site-packages\\lightgbm\\engine.py:148: UserWarning: Found `num_iterations` in params. Will use it instead of argument\n",
      "  warnings.warn(\"Found `{}` in params. Will use it instead of argument\".format(alias))\n"
     ]
    }
   ],
   "source": [
    "from sklearn.model_selection import cross_val_score\n",
    "from keras.wrappers.scikit_learn import KerasClassifier\n",
    "\n",
    "import lightgbm as lgb\n",
    "from scipy import stats\n",
    "\n",
    "from sklearn.metrics import accuracy_score\n",
    "\n",
    "seed = 32\n",
    "np.random.seed(seed)\n",
    "\n",
    "lgbm_cl = lgb.LGBMClassifier(num_iterations=1500, num_leaves=2000, min_data_in_leaf=50, is_unbalance = False,application='binary', metric='binary_error')\n",
    "\n",
    "# Use cross_val_score function\n",
    "# We are passing the entirety of X and y, not X_train or y_train, it takes care of splitting the dat\n",
    "# cv=10 for 10 folds\n",
    "# scoring='accuracy' for evaluation metric - althought they are many\n",
    "scores = cross_val_score(lgbm_cl,X, Y, cv=10)"
   ]
  },
  {
   "cell_type": "code",
   "execution_count": 130,
   "metadata": {},
   "outputs": [
    {
     "name": "stdout",
     "output_type": "stream",
     "text": [
      "0.8058058058058059\n",
      "0.68\n",
      "0.0014337513442533039\n"
     ]
    }
   ],
   "source": [
    "print(scores.max())\n",
    "print(scores.min())\n",
    "print(np.var(scores))"
   ]
  },
  {
   "cell_type": "code",
   "execution_count": 131,
   "metadata": {},
   "outputs": [],
   "source": [
    "import numpy as np\n",
    "import pandas as pd\n",
    "import keras\n",
    "from keras.datasets import mnist\n",
    "from keras.models import Sequential\n",
    "from mpl_toolkits.mplot3d import Axes3D\n",
    "from keras.layers import Dense, Dropout, Flatten\n",
    "from keras.layers import InputLayer, Conv2D, MaxPooling2D\n",
    "from keras import backend as K\n",
    "import matplotlib.pyplot as plt\n",
    "from sklearn import preprocessing\n",
    "from sklearn.svm import SVC\n",
    "from sklearn.metrics import classification_report, confusion_matrix\n",
    "from sklearn.metrics import accuracy_score\n",
    "from sklearn import svm \n",
    "from sklearn.model_selection import GridSearchCV\n",
    "# from brew.base import Ensemble\n",
    "# from brew.base import EnsembleClassifier\n",
    "# from brew.combination.combiner import Combiner\n",
    "from sklearn import linear_model\n",
    "from sklearn.ensemble import BaggingClassifier"
   ]
  },
  {
   "cell_type": "markdown",
   "metadata": {},
   "source": [
    "# SVM classifier"
   ]
  },
  {
   "cell_type": "code",
   "execution_count": 132,
   "metadata": {},
   "outputs": [
    {
     "name": "stdout",
     "output_type": "stream",
     "text": [
      "83.36\n",
      "99.61333333333333\n"
     ]
    }
   ],
   "source": [
    "svclassifier = SVC(kernel = 'rbf', gamma = 1, C = 10)\n",
    "svclassifier.fit(X_train, Y_train)\n",
    "y_train_pred = svclassifier.predict(X_train)\n",
    "y_pred = svclassifier.predict(X_test)\n",
    "print(accuracy_score(Y_test, y_pred) * 100)\n",
    "print(accuracy_score(Y_train, y_train_pred) * 100)"
   ]
  },
  {
   "cell_type": "code",
   "execution_count": 133,
   "metadata": {},
   "outputs": [
    {
     "name": "stdout",
     "output_type": "stream",
     "text": [
      "[0.77322677 0.70629371 0.7042957  0.777      0.77       0.689\n",
      " 0.714      0.77977978 0.70570571 0.83483483]\n",
      "0.0020520028716827813\n"
     ]
    }
   ],
   "source": [
    "from sklearn.model_selection import cross_val_score\n",
    "#knn = KNeighborsClassifier(n_neighbors=5)\n",
    "svclassifier = SVC(kernel = 'rbf', gamma = 1, C = 10)\n",
    "# Use cross_val_score function\n",
    "# We are passing the entirety of X and y, not X_train or y_train, it takes care of splitting the dat\n",
    "# cv=10 for 10 folds\n",
    "# scoring='accuracy' for evaluation metric - althought they are many\n",
    "scores = cross_val_score(svclassifier, X, Y, cv=10)\n",
    "print(scores)\n",
    "print(np.var(scores))"
   ]
  },
  {
   "cell_type": "code",
   "execution_count": 134,
   "metadata": {},
   "outputs": [
    {
     "name": "stdout",
     "output_type": "stream",
     "text": [
      "74.68\n",
      "76.26666666666667\n"
     ]
    },
    {
     "name": "stderr",
     "output_type": "stream",
     "text": [
      "C:\\Users\\laksh\\Anaconda3\\lib\\site-packages\\sklearn\\linear_model\\logistic.py:432: FutureWarning: Default solver will be changed to 'lbfgs' in 0.22. Specify a solver to silence this warning.\n",
      "  FutureWarning)\n"
     ]
    }
   ],
   "source": [
    "clf2 = linear_model.LogisticRegression()\n",
    "clf2.fit(X_train, Y_train)\n",
    "y_train_pred = clf2.predict(X_train)\n",
    "y_pred = clf2.predict(X_test)\n",
    "print(accuracy_score(Y_test, y_pred) * 100)\n",
    "print(accuracy_score(Y_train, y_train_pred) * 100)"
   ]
  },
  {
   "cell_type": "code",
   "execution_count": 135,
   "metadata": {},
   "outputs": [
    {
     "name": "stderr",
     "output_type": "stream",
     "text": [
      "C:\\Users\\laksh\\Anaconda3\\lib\\site-packages\\sklearn\\linear_model\\logistic.py:432: FutureWarning: Default solver will be changed to 'lbfgs' in 0.22. Specify a solver to silence this warning.\n",
      "  FutureWarning)\n",
      "C:\\Users\\laksh\\Anaconda3\\lib\\site-packages\\sklearn\\linear_model\\logistic.py:432: FutureWarning: Default solver will be changed to 'lbfgs' in 0.22. Specify a solver to silence this warning.\n",
      "  FutureWarning)\n",
      "C:\\Users\\laksh\\Anaconda3\\lib\\site-packages\\sklearn\\linear_model\\logistic.py:432: FutureWarning: Default solver will be changed to 'lbfgs' in 0.22. Specify a solver to silence this warning.\n",
      "  FutureWarning)\n",
      "C:\\Users\\laksh\\Anaconda3\\lib\\site-packages\\sklearn\\linear_model\\logistic.py:432: FutureWarning: Default solver will be changed to 'lbfgs' in 0.22. Specify a solver to silence this warning.\n",
      "  FutureWarning)\n",
      "C:\\Users\\laksh\\Anaconda3\\lib\\site-packages\\sklearn\\linear_model\\logistic.py:432: FutureWarning: Default solver will be changed to 'lbfgs' in 0.22. Specify a solver to silence this warning.\n",
      "  FutureWarning)\n",
      "C:\\Users\\laksh\\Anaconda3\\lib\\site-packages\\sklearn\\linear_model\\logistic.py:432: FutureWarning: Default solver will be changed to 'lbfgs' in 0.22. Specify a solver to silence this warning.\n",
      "  FutureWarning)\n",
      "C:\\Users\\laksh\\Anaconda3\\lib\\site-packages\\sklearn\\linear_model\\logistic.py:432: FutureWarning: Default solver will be changed to 'lbfgs' in 0.22. Specify a solver to silence this warning.\n",
      "  FutureWarning)\n",
      "C:\\Users\\laksh\\Anaconda3\\lib\\site-packages\\sklearn\\linear_model\\logistic.py:432: FutureWarning: Default solver will be changed to 'lbfgs' in 0.22. Specify a solver to silence this warning.\n",
      "  FutureWarning)\n",
      "C:\\Users\\laksh\\Anaconda3\\lib\\site-packages\\sklearn\\linear_model\\logistic.py:432: FutureWarning: Default solver will be changed to 'lbfgs' in 0.22. Specify a solver to silence this warning.\n",
      "  FutureWarning)\n"
     ]
    },
    {
     "name": "stdout",
     "output_type": "stream",
     "text": [
      "0.8338338338338338\n",
      "0.655\n",
      "0.0024375240257543335\n"
     ]
    },
    {
     "name": "stderr",
     "output_type": "stream",
     "text": [
      "C:\\Users\\laksh\\Anaconda3\\lib\\site-packages\\sklearn\\linear_model\\logistic.py:432: FutureWarning: Default solver will be changed to 'lbfgs' in 0.22. Specify a solver to silence this warning.\n",
      "  FutureWarning)\n"
     ]
    }
   ],
   "source": [
    "from sklearn.model_selection import cross_val_score\n",
    "#knn = KNeighborsClassifier(n_neighbors=5)\n",
    "clf2 = linear_model.LogisticRegression()\n",
    "# Use cross_val_score function\n",
    "# We are passing the entirety of X and y, not X_train or y_train, it takes care of splitting the dat\n",
    "# cv=10 for 10 folds\n",
    "# scoring='accuracy' for evaluation metric - althought they are many\n",
    "scores = cross_val_score(clf2, X, Y, cv=10)\n",
    "print(scores.max())\n",
    "print(scores.min())\n",
    "print(np.var(scores))"
   ]
  },
  {
   "cell_type": "code",
   "execution_count": null,
   "metadata": {},
   "outputs": [],
   "source": []
  },
  {
   "cell_type": "code",
   "execution_count": null,
   "metadata": {},
   "outputs": [],
   "source": []
  }
 ],
 "metadata": {
  "kernelspec": {
   "display_name": "Python 3",
   "language": "python",
   "name": "python3"
  },
  "language_info": {
   "codemirror_mode": {
    "name": "ipython",
    "version": 3
   },
   "file_extension": ".py",
   "mimetype": "text/x-python",
   "name": "python",
   "nbconvert_exporter": "python",
   "pygments_lexer": "ipython3",
   "version": "3.7.3"
  }
 },
 "nbformat": 4,
 "nbformat_minor": 2
}
